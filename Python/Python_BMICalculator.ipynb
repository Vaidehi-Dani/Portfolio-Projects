{
 "cells": [
  {
   "cell_type": "code",
   "execution_count": null,
   "id": "19d3aeb3-61a2-4cdd-814e-f6525052f7d7",
   "metadata": {},
   "outputs": [],
   "source": [
    "#BMI = [weight (kg) / height (cm) / height (cm)] x 10,000"
   ]
  },
  {
   "cell_type": "code",
   "execution_count": 25,
   "id": "f0766dff-6cf9-4ea5-8d42-cc037692a6eb",
   "metadata": {},
   "outputs": [
    {
     "name": "stdin",
     "output_type": "stream",
     "text": [
      "Enter your name:  Shashank\n",
      "Enter your weight in Kgs:  56\n",
      "Enter your height in cms:  165\n"
     ]
    },
    {
     "name": "stdout",
     "output_type": "stream",
     "text": [
      "Your BMI is: 20.57\n",
      "Shashank, you are categorized as normal weight.\n"
     ]
    }
   ],
   "source": [
    "name = str(input(\"Enter your name: \"))\n",
    "weight = float(input(\"Enter your weight in Kgs: \"))  # Convert input to float\n",
    "height = float(input(\"Enter your height in cms: \")) # Convert input to float\n",
    "\n",
    "BMI = weight / ((height / 100) ** 2)  # Correct formula\n",
    "print(f\"Your BMI is: {BMI:.2f}\")\n",
    "\n",
    "# Categorize BMI\n",
    "if BMI < 18.5:\n",
    "    category = \"underweight.\"\n",
    "elif 18.5 <= BMI < 24.9:\n",
    "    category = \"normal weight.\"\n",
    "elif 25 <= BMI < 29.9:\n",
    "    category = \"overweight.\"\n",
    "elif 29.9 <= BMI < 34.9:\n",
    "    category = \"obese.\"\n",
    "elif 34.9 <= BMI < 39.9:\n",
    "    category = \"severly obese.\"\n",
    "else:\n",
    "    category = \"morbidly obsese.\"\n",
    "\n",
    "# Output the result\n",
    "print(f\"{name}, you are categorized as {category}\")"
   ]
  },
  {
   "cell_type": "code",
   "execution_count": null,
   "id": "db6ca2b3-9e4c-46f7-8d40-8a11e5cf0eaa",
   "metadata": {},
   "outputs": [],
   "source": []
  },
  {
   "cell_type": "code",
   "execution_count": null,
   "id": "d87c87bd-16e6-41da-a690-11f23bf4eaf7",
   "metadata": {},
   "outputs": [],
   "source": []
  }
 ],
 "metadata": {
  "kernelspec": {
   "display_name": "Python 3 (ipykernel)",
   "language": "python",
   "name": "python3"
  },
  "language_info": {
   "codemirror_mode": {
    "name": "ipython",
    "version": 3
   },
   "file_extension": ".py",
   "mimetype": "text/x-python",
   "name": "python",
   "nbconvert_exporter": "python",
   "pygments_lexer": "ipython3",
   "version": "3.12.7"
  }
 },
 "nbformat": 4,
 "nbformat_minor": 5
}
